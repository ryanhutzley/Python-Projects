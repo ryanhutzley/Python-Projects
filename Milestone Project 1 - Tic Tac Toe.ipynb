{
 "cells": [
  {
   "cell_type": "code",
   "execution_count": 1,
   "id": "36b11ce4",
   "metadata": {},
   "outputs": [],
   "source": [
    "board = {'row1': ['  ', '| |', ' '], 'row2': ['  ', '| |', ' '], 'row3': ['  ', '| |', ' ']}"
   ]
  },
  {
   "cell_type": "code",
   "execution_count": 2,
   "id": "46378bb3",
   "metadata": {},
   "outputs": [],
   "source": [
    "valid = ['X', 'O']"
   ]
  },
  {
   "cell_type": "code",
   "execution_count": 3,
   "id": "2c1ac46b",
   "metadata": {},
   "outputs": [],
   "source": [
    "ok = ['Yes', 'No']"
   ]
  },
  {
   "cell_type": "code",
   "execution_count": 4,
   "id": "fa8ff26c",
   "metadata": {},
   "outputs": [],
   "source": [
    "selection = 0"
   ]
  },
  {
   "cell_type": "code",
   "execution_count": 5,
   "id": "ffc2986c",
   "metadata": {},
   "outputs": [],
   "source": [
    "player_1 = True"
   ]
  },
  {
   "cell_type": "code",
   "execution_count": 6,
   "id": "c636fcc7",
   "metadata": {},
   "outputs": [],
   "source": [
    "played_nums = [0]"
   ]
  },
  {
   "cell_type": "code",
   "execution_count": 7,
   "id": "4969fb7f",
   "metadata": {},
   "outputs": [],
   "source": [
    "counter = 0"
   ]
  },
  {
   "cell_type": "code",
   "execution_count": 8,
   "id": "60d0eb1a",
   "metadata": {},
   "outputs": [],
   "source": [
    "winning_combos = [[1,4,7], [2,5,8], [3,6,9], [1,2,3], [4,5,6], [7,8,9], [1,5,9], [3,5,7]]"
   ]
  },
  {
   "cell_type": "code",
   "execution_count": 9,
   "id": "8e835e7e",
   "metadata": {},
   "outputs": [],
   "source": [
    "def print_board(board):\n",
    "    print(''.join(board['row3']))\n",
    "    print('-------')\n",
    "    print(''.join(board['row2']))\n",
    "    print('-------')\n",
    "    print(''.join(board['row1']))"
   ]
  },
  {
   "cell_type": "code",
   "execution_count": 10,
   "id": "097f1454",
   "metadata": {},
   "outputs": [],
   "source": [
    "def start():\n",
    "    \n",
    "    global selection\n",
    "    \n",
    "    print('Welcome to Tic Tac Toe!')\n",
    "    \n",
    "    answer = 0\n",
    "    \n",
    "    while answer not in valid:\n",
    "        answer = input('Player 1: Do you want to be X or O? ')\n",
    "        if answer not in valid:\n",
    "            print('Please pick X or O')\n",
    "            \n",
    "    selection = answer\n",
    "    \n",
    "    print('Player 1 will go first')\n",
    "    ready()"
   ]
  },
  {
   "cell_type": "code",
   "execution_count": 11,
   "id": "09c4e7d0",
   "metadata": {},
   "outputs": [],
   "source": [
    "def ready():\n",
    "    \n",
    "    response = 0\n",
    "    \n",
    "    while response not in ok:\n",
    "        response = input('Are you ready to play? Enter Yes or No ')\n",
    "        if response not in ok:\n",
    "            print('Please enter Yes or No')\n",
    "          \n",
    "    if response == 'No':\n",
    "        awaiting_start = 0\n",
    "\n",
    "        while awaiting_start != 'Yes':\n",
    "            awaiting_start = input('Type Yes when ready ')\n",
    "            if awaiting_start != 'Yes':\n",
    "                print('Type Yes when ready')    \n",
    "        play()\n",
    "    else:\n",
    "        play()"
   ]
  },
  {
   "cell_type": "code",
   "execution_count": 12,
   "id": "2de449b8",
   "metadata": {},
   "outputs": [],
   "source": [
    "def play():\n",
    "    \n",
    "    global selection\n",
    "    global player_1\n",
    "    global played_nums\n",
    "    \n",
    "    if counter >= 5:\n",
    "        result = win_check()\n",
    "        if result:\n",
    "            print('Player 2 wins!' if player_1 else 'Player 1 wins!')\n",
    "            play_again()\n",
    "            return\n",
    "        elif not result and counter == 9:\n",
    "            print('Draw')\n",
    "            play_again()\n",
    "            return\n",
    "        \n",
    "    res = 0\n",
    "    \n",
    "    while res not in range(1, 10) or res in played_nums:\n",
    "        if player_1:\n",
    "            res = int(input('Player 1: Choose your next position (1-9) '))\n",
    "        else: \n",
    "            res = int(input('Player 2: Choose your next position (1-9) ')) \n",
    "            \n",
    "        if res not in range(1, 10):\n",
    "            print('Choose number between 1 and 9')\n",
    "        elif res in played_nums:\n",
    "            print('Space already taken')\n",
    "    \n",
    "    played_nums.append(res)\n",
    "    \n",
    "    if res in range(1,4):\n",
    "        update_and_print(res, 'row1')\n",
    "    elif res in range(4,7):\n",
    "        res = res-3\n",
    "        update_and_print(res, 'row2')\n",
    "    elif res in range(7,10):\n",
    "        res = res-6\n",
    "        update_and_print(res, 'row3')\n",
    "                                                                                            "
   ]
  },
  {
   "cell_type": "code",
   "execution_count": 13,
   "id": "e1d62cf9",
   "metadata": {},
   "outputs": [],
   "source": [
    "def win_check():\n",
    "    \n",
    "    for i in range(1,3):\n",
    "        p1 = played_nums[i::2]\n",
    "        for combo in winning_combos:\n",
    "            check = all(num in p1 for num in combo)\n",
    "            if check:\n",
    "                return True\n",
    "    else:\n",
    "        return False"
   ]
  },
  {
   "cell_type": "code",
   "execution_count": 14,
   "id": "0170765b",
   "metadata": {},
   "outputs": [],
   "source": [
    "def update_and_print(num, row):\n",
    "    \n",
    "    global counter\n",
    "    global selection\n",
    "    global player_1\n",
    "    \n",
    "    if num == 1:\n",
    "        board[row][num-1] = f' {selection}'\n",
    "    elif num == 2:\n",
    "        board[row][num-1] = f'|{selection}|'\n",
    "    else:\n",
    "        board[row][num-1] = f'{selection}'\n",
    "        \n",
    "    print(counter)\n",
    "        \n",
    "    counter += 1\n",
    "    \n",
    "    print(counter)\n",
    "    \n",
    "    updated_selection = list(filter(lambda x: x != selection, valid))\n",
    "    selection = updated_selection[0]\n",
    "    player_1 = not player_1\n",
    "    \n",
    "    print_board(board)\n",
    "    play()"
   ]
  },
  {
   "cell_type": "code",
   "execution_count": 15,
   "id": "d5eb268b",
   "metadata": {},
   "outputs": [],
   "source": [
    "def play_again():\n",
    "    \n",
    "    global board\n",
    "    global selection\n",
    "    global player_1\n",
    "    global played_nums\n",
    "    global counter\n",
    "    \n",
    "    user_input = 0\n",
    "    \n",
    "    while user_input not in ok:\n",
    "        user_input = input('Play again? Yes or No ')\n",
    "        if user_input not in ok:\n",
    "            print('Please write Yes or No')\n",
    "    \n",
    "    if user_input == 'No':\n",
    "        return\n",
    "    else:\n",
    "        board = {'row1': ['  ', '| |', ' '], 'row2': ['  ', '| |', ' '], 'row3': ['  ', '| |', ' ']}\n",
    "        selection = 0\n",
    "        player_1 = True\n",
    "        played_nums = []\n",
    "        counter = 0\n",
    "        start()"
   ]
  },
  {
   "cell_type": "code",
   "execution_count": 16,
   "id": "3acd118f",
   "metadata": {},
   "outputs": [
    {
     "name": "stdout",
     "output_type": "stream",
     "text": [
      "Welcome to Tic Tac Toe!\n",
      "Player 1: Do you want to be X or O? O\n",
      "Player 1 will go first\n",
      "Are you ready to play? Enter Yes or No Yes\n",
      "Player 1: Choose your next position (1-9) 0\n",
      "Choose number between 1 and 9\n",
      "Player 1: Choose your next position (1-9) 2\n",
      "0\n",
      "1\n",
      "  | | \n",
      "-------\n",
      "  | | \n",
      "-------\n",
      "  |O| \n",
      "Player 2: Choose your next position (1-9) 1\n",
      "1\n",
      "2\n",
      "  | | \n",
      "-------\n",
      "  | | \n",
      "-------\n",
      " X|O| \n",
      "Player 1: Choose your next position (1-9) 5\n",
      "2\n",
      "3\n",
      "  | | \n",
      "-------\n",
      "  |O| \n",
      "-------\n",
      " X|O| \n",
      "Player 2: Choose your next position (1-9) 4\n",
      "3\n",
      "4\n",
      "  | | \n",
      "-------\n",
      " X|O| \n",
      "-------\n",
      " X|O| \n",
      "Player 1: Choose your next position (1-9) 8\n",
      "4\n",
      "5\n",
      "  |O| \n",
      "-------\n",
      " X|O| \n",
      "-------\n",
      " X|O| \n",
      "Player 1 wins!\n",
      "Play again? Yes or No No\n"
     ]
    }
   ],
   "source": [
    "start()"
   ]
  }
 ],
 "metadata": {
  "kernelspec": {
   "display_name": "Python 3",
   "language": "python",
   "name": "python3"
  },
  "language_info": {
   "codemirror_mode": {
    "name": "ipython",
    "version": 3
   },
   "file_extension": ".py",
   "mimetype": "text/x-python",
   "name": "python",
   "nbconvert_exporter": "python",
   "pygments_lexer": "ipython3",
   "version": "3.8.8"
  }
 },
 "nbformat": 4,
 "nbformat_minor": 5
}
